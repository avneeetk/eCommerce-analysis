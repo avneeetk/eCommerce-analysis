{
 "cells": [
  {
   "cell_type": "code",
   "execution_count": 5,
   "metadata": {},
   "outputs": [],
   "source": [
    "import pandas as pd\n",
    "\n",
    "#Load Datasets\n",
    "customers = pd.read_csv('../ecommerce-analysis/data/Customers.csv')\n",
    "transactions = pd.read_csv('../ecommerce-analysis/data/Transactions.csv')\n",
    "products = pd.read_csv('../ecommerce-analysis/data/Products.csv')\n",
    "\n",
    "#merge transactions with products to get category and Price\n",
    "merged = pd.merge(transactions, products, on=\"ProductID\", how='left')\n",
    "#merge with customers to get region and signup date\n",
    "merged = pd.merge(merged, customers, on='CustomerID', how='left')\n"
   ]
  },
  {
   "cell_type": "code",
   "execution_count": 6,
   "metadata": {},
   "outputs": [],
   "source": [
    "from datetime import datetime\n",
    "\n",
    "#calculate days since signup\n",
    "merged['SignupDate'] = pd.to_datetime(merged['SignupDate'])\n",
    "latest_date = merged['TransactionDate'].max()\n",
    "merged['Tenure'] = (pd.to_datetime(latest_date) - merged['SignupDate']).dt.days\n",
    "\n",
    "#Aggregate transaction feaatures\n",
    "customer_features = merged.groupby('CustomerID').agg(\n",
    "    Region = ('Region','first'),\n",
    "    Tenure = ('Tenure','first'),\n",
    "    TotalPurchase = ('TransactionID','count'),\n",
    "    AvgTransactionValue = ('TotalValue','mean'),\n",
    "    FavouriteCategory =('Category', lambda x: x.mode()[0])\n",
    ").reset_index()"
   ]
  },
  {
   "cell_type": "code",
   "execution_count": 7,
   "metadata": {},
   "outputs": [],
   "source": [
    "from sklearn.preprocessing import OneHotEncoder\n",
    "\n",
    "# Onehot encode 'Region and 'FavouriteCategory'\n",
    "encoder = OneHotEncoder()\n",
    "encoded_features = encoder.fit_transform(customer_features[['Region','FavouriteCategory']])\n",
    "encoded_df = pd.DataFrame(encoded_features.toarray(), columns = encoder.get_feature_names_out())"
   ]
  },
  {
   "cell_type": "code",
   "execution_count": 8,
   "metadata": {},
   "outputs": [],
   "source": [
    "from sklearn.preprocessing import StandardScaler\n",
    "\n",
    "#Scale numerical features\n",
    "scaler = StandardScaler()\n",
    "numerical_features = customer_features[['Tenure', 'TotalPurchase', 'AvgTransactionValue']]\n",
    "scaled_features = scaler.fit_transform(numerical_features)\n",
    "scaled_df = pd.DataFrame(scaled_features, columns=numerical_features.columns)\n",
    "\n",
    "final_features = pd.concat([encoded_df, scaled_df], axis=1)"
   ]
  },
  {
   "cell_type": "code",
   "execution_count": 9,
   "metadata": {},
   "outputs": [],
   "source": [
    "from sklearn.metrics.pairwise import cosine_similarity\n",
    "\n",
    "#Compute similarity pairwise\n",
    "similarity_matrix = cosine_similarity(final_features)"
   ]
  },
  {
   "cell_type": "code",
   "execution_count": 10,
   "metadata": {},
   "outputs": [],
   "source": [
    "# Get indices of 20 customers\n",
    "target_customers = customer_features[customer_features['CustomerID'].isin([f'C{i:04d}' for i in range(1, 21)])].index\n",
    "\n",
    "# Create lookalike map\n",
    "lookalike_map = {}\n",
    "for idx in target_customers:\n",
    "    customer_id = customer_features.iloc[idx]['CustomerID']\n",
    "    scores = list(enumerate(similarity_matrix[idx]))\n",
    "    sorted_scores = sorted(scores, key=lambda x: x[1], reverse=True)[1:4]  # Exclude self\n",
    "    lookalike_map[customer_id] = [\n",
    "        (customer_features.iloc[i]['CustomerID'], round(score, 2))  # Use 'score' instead of 'scores'\n",
    "        for i, score in sorted_scores  # Corrected iteration\n",
    "    ]"
   ]
  },
  {
   "cell_type": "code",
   "execution_count": 11,
   "metadata": {},
   "outputs": [],
   "source": [
    "import csv\n",
    "\n",
    "with open('Avneet_Kaur_Lookalike.csv', 'w', newline=\"\" )as file:\n",
    "    writer = csv.writer(file)\n",
    "    for customer_id, recommendations in lookalike_map.items():\n",
    "        row = [customer_id] + [f\"{id}, {score}\" for id, score in recommendations]\n",
    "        writer.writerow(row)"
   ]
  }
 ],
 "metadata": {
  "kernelspec": {
   "display_name": "Python 3",
   "language": "python",
   "name": "python3"
  },
  "language_info": {
   "codemirror_mode": {
    "name": "ipython",
    "version": 3
   },
   "file_extension": ".py",
   "mimetype": "text/x-python",
   "name": "python",
   "nbconvert_exporter": "python",
   "pygments_lexer": "ipython3",
   "version": "3.12.0"
  }
 },
 "nbformat": 4,
 "nbformat_minor": 2
}
